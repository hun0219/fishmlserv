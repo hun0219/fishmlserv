{
 "cells": [
  {
   "cell_type": "code",
   "execution_count": 25,
   "id": "06df5031-1775-4b38-ba62-3fb6eaf4330c",
   "metadata": {},
   "outputs": [],
   "source": [
    "import pandas as pd"
   ]
  },
  {
   "cell_type": "code",
   "execution_count": 26,
   "id": "edbc8033-a27a-42fc-922c-ca3b7be85125",
   "metadata": {},
   "outputs": [],
   "source": [
    "import os\n",
    "\n",
    "homepath=os.path.expanduser(\"~\")"
   ]
  },
  {
   "cell_type": "code",
   "execution_count": 27,
   "id": "dc3a1ead-0e0a-4034-b8aa-50bcae8107ff",
   "metadata": {},
   "outputs": [],
   "source": [
    "df = pd.read_csv(f\"{homepath}/code/fish_test_data.csv\")"
   ]
  },
  {
   "cell_type": "code",
   "execution_count": 28,
   "id": "aa1111a3-a4a8-41c1-8da7-450010f890e2",
   "metadata": {},
   "outputs": [
    {
     "data": {
      "text/html": [
       "<div>\n",
       "<style scoped>\n",
       "    .dataframe tbody tr th:only-of-type {\n",
       "        vertical-align: middle;\n",
       "    }\n",
       "\n",
       "    .dataframe tbody tr th {\n",
       "        vertical-align: top;\n",
       "    }\n",
       "\n",
       "    .dataframe thead th {\n",
       "        text-align: right;\n",
       "    }\n",
       "</style>\n",
       "<table border=\"1\" class=\"dataframe\">\n",
       "  <thead>\n",
       "    <tr style=\"text-align: right;\">\n",
       "      <th></th>\n",
       "      <th>Length</th>\n",
       "      <th>Weight</th>\n",
       "      <th>Label</th>\n",
       "    </tr>\n",
       "  </thead>\n",
       "  <tbody>\n",
       "    <tr>\n",
       "      <th>9999995</th>\n",
       "      <td>34.636377</td>\n",
       "      <td>554.759082</td>\n",
       "      <td>Bream</td>\n",
       "    </tr>\n",
       "    <tr>\n",
       "      <th>9999996</th>\n",
       "      <td>13.172821</td>\n",
       "      <td>17.191087</td>\n",
       "      <td>Smelt</td>\n",
       "    </tr>\n",
       "    <tr>\n",
       "      <th>9999997</th>\n",
       "      <td>12.877214</td>\n",
       "      <td>15.103945</td>\n",
       "      <td>Smelt</td>\n",
       "    </tr>\n",
       "    <tr>\n",
       "      <th>9999998</th>\n",
       "      <td>39.071152</td>\n",
       "      <td>379.180396</td>\n",
       "      <td>Bream</td>\n",
       "    </tr>\n",
       "    <tr>\n",
       "      <th>9999999</th>\n",
       "      <td>32.942495</td>\n",
       "      <td>732.028292</td>\n",
       "      <td>Bream</td>\n",
       "    </tr>\n",
       "  </tbody>\n",
       "</table>\n",
       "</div>"
      ],
      "text/plain": [
       "            Length      Weight  Label\n",
       "9999995  34.636377  554.759082  Bream\n",
       "9999996  13.172821   17.191087  Smelt\n",
       "9999997  12.877214   15.103945  Smelt\n",
       "9999998  39.071152  379.180396  Bream\n",
       "9999999  32.942495  732.028292  Bream"
      ]
     },
     "execution_count": 28,
     "metadata": {},
     "output_type": "execute_result"
    }
   ],
   "source": [
    "df.tail()"
   ]
  },
  {
   "cell_type": "code",
   "execution_count": 29,
   "id": "1ece1d25-f230-4288-890b-3e5a9bc6beea",
   "metadata": {},
   "outputs": [],
   "source": [
    "sdf = df.sample(100000)          #sample하면 df에 있는 데이터 10만개 추출 랜덤으로."
   ]
  },
  {
   "cell_type": "code",
   "execution_count": 30,
   "id": "3f9fbfc2-3294-45de-b909-8ab2c63ac599",
   "metadata": {},
   "outputs": [],
   "source": [
    "sdf.to_csv(f\"{homepath}/code/fish_r.data_100k.csv\")        #데이터 저장  여기까지 10만개 추출"
   ]
  },
  {
   "cell_type": "code",
   "execution_count": null,
   "id": "b846665a-86aa-4f2c-9fe6-6be2d9910334",
   "metadata": {},
   "outputs": [],
   "source": [
    "# 아래부터 load"
   ]
  },
  {
   "cell_type": "code",
   "execution_count": 42,
   "id": "13cb8d55-0f45-4849-88f4-0b04cfe48ad4",
   "metadata": {},
   "outputs": [
    {
     "data": {
      "text/html": [
       "<div>\n",
       "<style scoped>\n",
       "    .dataframe tbody tr th:only-of-type {\n",
       "        vertical-align: middle;\n",
       "    }\n",
       "\n",
       "    .dataframe tbody tr th {\n",
       "        vertical-align: top;\n",
       "    }\n",
       "\n",
       "    .dataframe thead th {\n",
       "        text-align: right;\n",
       "    }\n",
       "</style>\n",
       "<table border=\"1\" class=\"dataframe\">\n",
       "  <thead>\n",
       "    <tr style=\"text-align: right;\">\n",
       "      <th></th>\n",
       "      <th>Unnamed: 0</th>\n",
       "      <th>Length</th>\n",
       "      <th>Weight</th>\n",
       "      <th>Label</th>\n",
       "      <th>ko</th>\n",
       "    </tr>\n",
       "  </thead>\n",
       "  <tbody>\n",
       "    <tr>\n",
       "      <th>0</th>\n",
       "      <td>2436005</td>\n",
       "      <td>35.717165</td>\n",
       "      <td>383.561583</td>\n",
       "      <td>Bream</td>\n",
       "      <td>도미</td>\n",
       "    </tr>\n",
       "    <tr>\n",
       "      <th>1</th>\n",
       "      <td>4929056</td>\n",
       "      <td>37.948401</td>\n",
       "      <td>383.706212</td>\n",
       "      <td>Bream</td>\n",
       "      <td>도미</td>\n",
       "    </tr>\n",
       "    <tr>\n",
       "      <th>2</th>\n",
       "      <td>1330716</td>\n",
       "      <td>30.483724</td>\n",
       "      <td>284.234613</td>\n",
       "      <td>Bream</td>\n",
       "      <td>도미</td>\n",
       "    </tr>\n",
       "    <tr>\n",
       "      <th>3</th>\n",
       "      <td>6203910</td>\n",
       "      <td>14.450491</td>\n",
       "      <td>9.772069</td>\n",
       "      <td>Smelt</td>\n",
       "      <td>빙어</td>\n",
       "    </tr>\n",
       "    <tr>\n",
       "      <th>4</th>\n",
       "      <td>1538118</td>\n",
       "      <td>10.988702</td>\n",
       "      <td>9.072952</td>\n",
       "      <td>Smelt</td>\n",
       "      <td>빙어</td>\n",
       "    </tr>\n",
       "    <tr>\n",
       "      <th>...</th>\n",
       "      <td>...</td>\n",
       "      <td>...</td>\n",
       "      <td>...</td>\n",
       "      <td>...</td>\n",
       "      <td>...</td>\n",
       "    </tr>\n",
       "    <tr>\n",
       "      <th>99995</th>\n",
       "      <td>5126832</td>\n",
       "      <td>31.569898</td>\n",
       "      <td>700.097738</td>\n",
       "      <td>Bream</td>\n",
       "      <td>도미</td>\n",
       "    </tr>\n",
       "    <tr>\n",
       "      <th>99996</th>\n",
       "      <td>9988326</td>\n",
       "      <td>35.730504</td>\n",
       "      <td>453.122278</td>\n",
       "      <td>Bream</td>\n",
       "      <td>도미</td>\n",
       "    </tr>\n",
       "    <tr>\n",
       "      <th>99997</th>\n",
       "      <td>7774321</td>\n",
       "      <td>10.745778</td>\n",
       "      <td>14.579903</td>\n",
       "      <td>Smelt</td>\n",
       "      <td>빙어</td>\n",
       "    </tr>\n",
       "    <tr>\n",
       "      <th>99998</th>\n",
       "      <td>1991773</td>\n",
       "      <td>33.064392</td>\n",
       "      <td>760.933881</td>\n",
       "      <td>Bream</td>\n",
       "      <td>도미</td>\n",
       "    </tr>\n",
       "    <tr>\n",
       "      <th>99999</th>\n",
       "      <td>1982610</td>\n",
       "      <td>14.855228</td>\n",
       "      <td>12.210112</td>\n",
       "      <td>Smelt</td>\n",
       "      <td>빙어</td>\n",
       "    </tr>\n",
       "  </tbody>\n",
       "</table>\n",
       "<p>100000 rows × 5 columns</p>\n",
       "</div>"
      ],
      "text/plain": [
       "       Unnamed: 0     Length      Weight  Label  ko\n",
       "0         2436005  35.717165  383.561583  Bream  도미\n",
       "1         4929056  37.948401  383.706212  Bream  도미\n",
       "2         1330716  30.483724  284.234613  Bream  도미\n",
       "3         6203910  14.450491    9.772069  Smelt  빙어\n",
       "4         1538118  10.988702    9.072952  Smelt  빙어\n",
       "...           ...        ...         ...    ...  ..\n",
       "99995     5126832  31.569898  700.097738  Bream  도미\n",
       "99996     9988326  35.730504  453.122278  Bream  도미\n",
       "99997     7774321  10.745778   14.579903  Smelt  빙어\n",
       "99998     1991773  33.064392  760.933881  Bream  도미\n",
       "99999     1982610  14.855228   12.210112  Smelt  빙어\n",
       "\n",
       "[100000 rows x 5 columns]"
      ]
     },
     "execution_count": 42,
     "metadata": {},
     "output_type": "execute_result"
    }
   ],
   "source": [
    "# load_csv\n",
    "def load():   # airflow하려면 함수설정.\n",
    "    import pandas as pd              \n",
    "    df =pd.read_csv(f\"{homepath}/code/fish_r.data_100k.csv\")\n",
    "    d = {\n",
    "        \"Bream\":\"도미\",\n",
    "        \"Smelt\":\"빙어\"\n",
    "        }\n",
    "    \n",
    "    df[\"ko\"]=df[\"Label\"].apply(lambda x:d[x])\n",
    "\n",
    "df"
   ]
  },
  {
   "cell_type": "code",
   "execution_count": null,
   "id": "7084c0a5-c203-4819-a4db-0391fb965e0d",
   "metadata": {},
   "outputs": [],
   "source": [
    "# 아래부터 predict 시작"
   ]
  },
  {
   "cell_type": "code",
   "execution_count": null,
   "id": "e5aa2459-6ad5-422a-ab55-1bae19c0a26a",
   "metadata": {},
   "outputs": [],
   "source": [
    "\"\"\" 에어플로우에서 n값 인자로 넘겨주는거 , aiwflow \n",
    "op_kwargs={\n",
    "    \"n\" =1\n",
    "}\n",
    "op_kwargs={\n",
    "    \"n\" =5\n",
    "}\n",
    "\"\"\"\n",
    "\n",
    "\n",
    "# 예측(requests)(도미인지 빙어인지)\n",
    "def predict(n):\n",
    "    import requests\n",
    "\n",
    "    tmp = []\n",
    "\n",
    "    for i, data in df.iterrows():     #데이터프레임에있는거를 한줄씩 반복한다.(iterrows) i는 순번\n",
    "#    print(i, data)\n",
    "        resp = requests.get(f\"http://172.31.34.167/fish?length={data['Length']}&weight={data['Weight']}&neighbors={n}\").text\n",
    "        tmp.append(eval(resp)[\"prediction\"])     # 빙어인지 도미인지 필요한 데이터 칼럼  필요함 , 딕셔너리 형태를 가져오려고 eval씀\n",
    "\n",
    "    df[f\"pred{n}\"] = tmp"
   ]
  },
  {
   "cell_type": "code",
   "execution_count": null,
   "id": "808e2741-a4ee-4187-b616-fd26034628b5",
   "metadata": {},
   "outputs": [],
   "source": [
    "for i, data in df.head().iterrows():\n",
    "    print(i)\n",
    "    print(data[\"Length\"])\n",
    "    print(data[\"Weight\"])\n",
    "    print(data[\"Label\"])             # 한줄씩 반복하면서 따로 불러올수 있다. "
   ]
  },
  {
   "cell_type": "code",
   "execution_count": null,
   "id": "e19edc06-5d01-43c2-a8d1-8cb6842b1dc0",
   "metadata": {},
   "outputs": [],
   "source": [
    "for i, data in df.head().iterrows():   \n",
    "#    print(i, data)\n",
    "    resp = requests.get(f\"http://15.206.80.113:81/fish?length={data['Length']}&weight={data['Weight']}&neighbors=1\").text\n",
    "    print(resp)"
   ]
  },
  {
   "cell_type": "code",
   "execution_count": 32,
   "id": "7267fd23-f932-46fb-b543-8226b76c9b10",
   "metadata": {},
   "outputs": [
    {
     "ename": "NameError",
     "evalue": "name 'tmp' is not defined",
     "output_type": "error",
     "traceback": [
      "\u001b[0;31m---------------------------------------------------------------------------\u001b[0m",
      "\u001b[0;31mNameError\u001b[0m                                 Traceback (most recent call last)",
      "Cell \u001b[0;32mIn[32], line 1\u001b[0m\n\u001b[0;32m----> 1\u001b[0m df[\u001b[38;5;124m\"\u001b[39m\u001b[38;5;124mpred1\u001b[39m\u001b[38;5;124m\"\u001b[39m] \u001b[38;5;241m=\u001b[39m \u001b[43mtmp\u001b[49m \u001b[38;5;66;03m#  tmp리스트에 빈값의 한 열을 추가함 , 데이터프레임에 도미인지 빙어인지 eval을 통해서 나온 tmp 값을 새로운 pred1의 칼럼에 추가\u001b[39;00m\n\u001b[1;32m      2\u001b[0m                 \u001b[38;5;66;03m# df는  위의 데이터프레임이다 (18번쨰)\u001b[39;00m\n",
      "\u001b[0;31mNameError\u001b[0m: name 'tmp' is not defined"
     ]
    }
   ],
   "source": [
    "df[\"pred1\"] = tmp #  tmp리스트에 빈값의 한 열을 추가함 , 데이터프레임에 도미인지 빙어인지 eval을 통해서 나온 tmp 값을 새로운 pred1의 칼럼에 추가\n",
    "                # df는  위의 데이터프레임이다"
   ]
  },
  {
   "cell_type": "code",
   "execution_count": null,
   "id": "730ff362-afcc-42bd-84d5-1d7b67d4a250",
   "metadata": {},
   "outputs": [],
   "source": [
    "# 아래부터 agg(집계) 시작"
   ]
  },
  {
   "cell_type": "code",
   "execution_count": null,
   "id": "b691e488-be81-4e6d-8d10-93db7de75d69",
   "metadata": {},
   "outputs": [],
   "source": [
    "#혼동행열 쓰기\n",
    "from sklean.metrics import confusion_matrix\n",
    "\n",
    "# confusion.martrix(df[\"Label\"],df[\"pred1\"]     #혼동행열 실제 데이트 label, 예측 데이터 pred1 , 첫번째 실제, 두번째 예측 (열별로)\n",
    "\n",
    "sum(df[\"Label\"] == df[\"pred1\"]) /len(df[\"pred1\"])    # 정확도 "
   ]
  },
  {
   "cell_type": "code",
   "execution_count": 43,
   "id": "d2854404-9133-4bcf-a471-266e040248b9",
   "metadata": {},
   "outputs": [],
   "source": [
    "a=lambda x:x+1"
   ]
  },
  {
   "cell_type": "code",
   "execution_count": 44,
   "id": "d9f298ed-cc07-4fe5-817a-7bb31636455c",
   "metadata": {},
   "outputs": [
    {
     "data": {
      "text/plain": [
       "2"
      ]
     },
     "execution_count": 44,
     "metadata": {},
     "output_type": "execute_result"
    }
   ],
   "source": [
    "a(1)"
   ]
  },
  {
   "cell_type": "code",
   "execution_count": null,
   "id": "7315576f-885b-44a8-9cf5-9a92c008422c",
   "metadata": {},
   "outputs": [],
   "source": []
  }
 ],
 "metadata": {
  "kernelspec": {
   "display_name": "Python 3 (ipykernel)",
   "language": "python",
   "name": "python3"
  },
  "language_info": {
   "codemirror_mode": {
    "name": "ipython",
    "version": 3
   },
   "file_extension": ".py",
   "mimetype": "text/x-python",
   "name": "python",
   "nbconvert_exporter": "python",
   "pygments_lexer": "ipython3",
   "version": "3.11.9"
  }
 },
 "nbformat": 4,
 "nbformat_minor": 5
}
