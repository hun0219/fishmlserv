{
 "cells": [
  {
   "cell_type": "code",
   "execution_count": 32,
   "id": "1c9bb4f9-b297-41f8-a6b0-79a36aa4c30f",
   "metadata": {},
   "outputs": [
    {
     "name": "stdin",
     "output_type": "stream",
     "text": [
      "length값을 입력하세요 10\n",
      "weight값을 입력하세요 20\n",
      "이것은 '도미'인가요? y\n"
     ]
    }
   ],
   "source": [
    "from sklearn.neighbors import KNeighborsClassifier\n",
    "import pandas as pd\n",
    "import csv\n",
    "import os\n",
    "\n",
    "homepath=os.path.expanduser(\"~\")\n",
    "\n",
    "file_path=\"fi_data.csv\"\n",
    "\n",
    "length = float(input(\"length값을 입력하세요\"))\n",
    "weight = float(input(\"weight값을 입력하세요\"))\n",
    "label_dt = input(\"이것은 '도미'인가요?\").strip().lower()\n",
    "\n",
    "if label_dt == 'y':\n",
    "    label = \"도미\"\n",
    "else:\n",
    "    label = \"빙어\"\n",
    "\n",
    "\n",
    "fish_data = []\n",
    "fish_data.append([length, weight, label])\n",
    "\n",
    "file_exists = os.path.exists(file_path)\n",
    "\n",
    "with open(file_path, mode=\"a\", newline=\"\") as file:  # 'a' 모드로 데이터를 추가\n",
    "    writer = csv.writer(file)\n",
    "\n",
    "    if not file_exists:  # 파일이 없을 경우\n",
    "        # 헤더 추가\n",
    "        writer.writerow([\"length\", \"weight\", \"label\"])\n",
    "\n",
    "    # 리스트에 저장된 데이터 쓰기\n",
    "    writer.writerows(fish_data)\n"
   ]
  },
  {
   "cell_type": "code",
   "execution_count": 33,
   "id": "07a652b5-e6b6-4ba8-a768-ecdae38942bc",
   "metadata": {},
   "outputs": [
    {
     "data": {
      "text/plain": [
       "[[10.0, 20.0, '도미']]"
      ]
     },
     "execution_count": 33,
     "metadata": {},
     "output_type": "execute_result"
    }
   ],
   "source": [
    "fish_data"
   ]
  },
  {
   "cell_type": "code",
   "execution_count": 34,
   "id": "39b55274-a7eb-49e8-8554-3904af38b18c",
   "metadata": {},
   "outputs": [],
   "source": [
    "df = pd.read_csv(f\"{homepath}/code/fishmlserv/note/fi_data.csv\")"
   ]
  },
  {
   "cell_type": "code",
   "execution_count": 35,
   "id": "d631cb4c-db6e-4936-b47c-74786c23c281",
   "metadata": {},
   "outputs": [
    {
     "data": {
      "text/html": [
       "<div>\n",
       "<style scoped>\n",
       "    .dataframe tbody tr th:only-of-type {\n",
       "        vertical-align: middle;\n",
       "    }\n",
       "\n",
       "    .dataframe tbody tr th {\n",
       "        vertical-align: top;\n",
       "    }\n",
       "\n",
       "    .dataframe thead th {\n",
       "        text-align: right;\n",
       "    }\n",
       "</style>\n",
       "<table border=\"1\" class=\"dataframe\">\n",
       "  <thead>\n",
       "    <tr style=\"text-align: right;\">\n",
       "      <th></th>\n",
       "      <th>length</th>\n",
       "      <th>weight</th>\n",
       "      <th>label</th>\n",
       "    </tr>\n",
       "  </thead>\n",
       "  <tbody>\n",
       "    <tr>\n",
       "      <th>1</th>\n",
       "      <td>10.0</td>\n",
       "      <td>10.0</td>\n",
       "      <td>도미</td>\n",
       "    </tr>\n",
       "    <tr>\n",
       "      <th>2</th>\n",
       "      <td>10.0</td>\n",
       "      <td>10.0</td>\n",
       "      <td>도미</td>\n",
       "    </tr>\n",
       "    <tr>\n",
       "      <th>3</th>\n",
       "      <td>10.0</td>\n",
       "      <td>20.0</td>\n",
       "      <td>빙어</td>\n",
       "    </tr>\n",
       "    <tr>\n",
       "      <th>4</th>\n",
       "      <td>10.0</td>\n",
       "      <td>20.0</td>\n",
       "      <td>빙어</td>\n",
       "    </tr>\n",
       "    <tr>\n",
       "      <th>5</th>\n",
       "      <td>10.0</td>\n",
       "      <td>20.0</td>\n",
       "      <td>도미</td>\n",
       "    </tr>\n",
       "  </tbody>\n",
       "</table>\n",
       "</div>"
      ],
      "text/plain": [
       "   length  weight label\n",
       "1    10.0    10.0    도미\n",
       "2    10.0    10.0    도미\n",
       "3    10.0    20.0    빙어\n",
       "4    10.0    20.0    빙어\n",
       "5    10.0    20.0    도미"
      ]
     },
     "execution_count": 35,
     "metadata": {},
     "output_type": "execute_result"
    }
   ],
   "source": [
    "df.tail()"
   ]
  },
  {
   "cell_type": "code",
   "execution_count": null,
   "id": "02a9f0a6-f195-46cf-adad-777a32b7ed7c",
   "metadata": {},
   "outputs": [],
   "source": []
  }
 ],
 "metadata": {
  "kernelspec": {
   "display_name": "Python 3 (ipykernel)",
   "language": "python",
   "name": "python3"
  },
  "language_info": {
   "codemirror_mode": {
    "name": "ipython",
    "version": 3
   },
   "file_extension": ".py",
   "mimetype": "text/x-python",
   "name": "python",
   "nbconvert_exporter": "python",
   "pygments_lexer": "ipython3",
   "version": "3.11.9"
  }
 },
 "nbformat": 4,
 "nbformat_minor": 5
}
